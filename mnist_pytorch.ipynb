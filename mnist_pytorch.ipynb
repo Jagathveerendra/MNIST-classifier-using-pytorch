{
  "nbformat": 4,
  "nbformat_minor": 0,
  "metadata": {
    "colab": {
      "name": "mnist_pytorch.ipynb",
      "provenance": []
    },
    "kernelspec": {
      "name": "python3",
      "display_name": "Python 3"
    },
    "language_info": {
      "name": "python"
    }
  },
  "cells": [
    {
      "cell_type": "code",
      "execution_count": null,
      "metadata": {
        "id": "4aDC_a_tXxUg"
      },
      "outputs": [],
      "source": [
        "import numpy as np \n",
        "import torch\n",
        "import torchvision\n",
        "import torchvision.transforms as transforms\n",
        "import torch.nn as nn\n",
        "import torch.nn.functional as F\n",
        "import torch.optim as optim\n",
        "import matplotlib\n",
        "from matplotlib import pyplot as plt"
      ]
    },
    {
      "cell_type": "code",
      "source": [
        "# loading the data\n",
        "T = transforms.Compose([transforms.ToTensor()])\n",
        "\n",
        "batch_size = 64\n",
        "\n",
        "trainset = torchvision.datasets.MNIST(root='./data', train=True,\n",
        "                                        download=True, transform=T)\n",
        "trainloader = torch.utils.data.DataLoader(trainset, batch_size=batch_size,\n",
        "                                          shuffle=True, num_workers=2)\n",
        "\n",
        "testset = torchvision.datasets.MNIST(root='./data', train=False,\n",
        "                                       download=True, transform=T)\n",
        "testloader = torch.utils.data.DataLoader(testset, batch_size=batch_size,\n",
        "                                         shuffle=False, num_workers=2)"
      ],
      "metadata": {
        "id": "_KGH9xJJeX7L"
      },
      "execution_count": null,
      "outputs": []
    },
    {
      "cell_type": "code",
      "source": [
        "class Net(nn.Module):\n",
        "\n",
        "    def __init__(self):\n",
        "        super(Net, self).__init__()\n",
        "        # 1 input image channel, 6 output channels, 5x5 square convolution\n",
        "        # kernel\n",
        "        self.conv1 = nn.Conv2d(1, 6, 5)\n",
        "        self.conv2 = nn.Conv2d(6, 16, 5)\n",
        "        # an affine operation: y = Wx + b\n",
        "        self.fc1 = nn.Linear(256, 120)  # 5*5 from image dimension\n",
        "        self.fc2 = nn.Linear(120, 84)\n",
        "        self.fc3 = nn.Linear(84, 10)\n",
        "\n",
        "    def forward(self, x):\n",
        "        # Max pooling over a (2, 2) window\n",
        "        x = F.max_pool2d(F.relu(self.conv1(x)), 2)\n",
        "        \n",
        "        x = F.max_pool2d(F.relu(self.conv2(x)), 2)\n",
        "        x = torch.flatten(x, 1) # flatten all dimensions except the batch dimension\n",
        "        x = F.relu(self.fc1(x))\n",
        "        x = F.relu(self.fc2(x))\n",
        "        x = self.fc3(x)\n",
        "        return x\n",
        "\n",
        "net = Net()\n",
        "print(net)\n",
        "\n",
        "criterion = nn.CrossEntropyLoss()\n",
        "optimizer = optim.SGD(net.parameters(), lr=0.001, momentum=0.9)\n",
        "# print(trains.shape)"
      ],
      "metadata": {
        "colab": {
          "base_uri": "https://localhost:8080/"
        },
        "id": "tUl0bQa7gViI",
        "outputId": "f935aac5-264d-4c82-a3fb-f1475285f33c"
      },
      "execution_count": null,
      "outputs": [
        {
          "output_type": "stream",
          "name": "stdout",
          "text": [
            "Net(\n",
            "  (conv1): Conv2d(1, 6, kernel_size=(5, 5), stride=(1, 1))\n",
            "  (conv2): Conv2d(6, 16, kernel_size=(5, 5), stride=(1, 1))\n",
            "  (fc1): Linear(in_features=256, out_features=120, bias=True)\n",
            "  (fc2): Linear(in_features=120, out_features=84, bias=True)\n",
            "  (fc3): Linear(in_features=84, out_features=10, bias=True)\n",
            ")\n"
          ]
        }
      ]
    },
    {
      "cell_type": "code",
      "source": [
        "#training\n",
        "loss_train = []\n",
        "accuracy_train = 0\n",
        "length = 0\n",
        "j = 0\n",
        "K = 0\n",
        "iter = 10\n",
        "for epoch in range(iter):  # loop over the dataset multiple times\n",
        "\n",
        "    running_loss = 0.0\n",
        "    i = 1\n",
        "    for data in trainloader:\n",
        "        # get the inputs; data is a list of [inputs, labels]\n",
        "        inputs, labels = data\n",
        "        # print(inputs.shape)\n",
        "        # print(labels.shape)\n",
        "        # zero the parameter gradients\n",
        "        optimizer.zero_grad()\n",
        "\n",
        "        # forward + backward + optimize\n",
        "        outputs = net(inputs)\n",
        "        #print(outputs.shape)\n",
        "        loss = criterion(outputs, labels)\n",
        "        loss.backward()\n",
        "        optimizer.step()\n",
        "        i+=1\n",
        "        # print statistics\n",
        "        if epoch == iter-1:\n",
        "          _,preds = torch.max(outputs,dim = 1)\n",
        "          accuracy_train += (preds==labels).sum()\n",
        "          length += len(labels)\n",
        "        \n",
        "        running_loss += loss.item()\n",
        "        # loss_train.append(loss.item())\n",
        "        if i % 10 == 0:    # print every 2000 mini-batches\n",
        "          # print(f'[{epoch + 1}, {i:5d}] loss: {running_loss / 10:.3f}')\n",
        "          loss_train.append(running_loss /10)\n",
        "          running_loss = 0.0\n",
        "          K += 1\n",
        "\n",
        "accuracy_train = (accuracy_train/length)*100\n",
        "x_axis = np.arange(0,K,1)\n",
        "plt.plot(x_axis,loss_train)\n",
        "plt.title(\"loss\")\n",
        "plt.show()\n",
        "# print(net.parameters())\n",
        "# params = list(net.parameters())\n",
        "# print(len(params))\n",
        "# print(params[0])\n",
        "\n",
        "#testing\n",
        "length = 0\n",
        "accuracy_test = 0\n",
        "for data in testloader:\n",
        "  inputs,labels = data\n",
        "  outputs = net(inputs)\n",
        "  value,preds = torch.max(outputs,dim = 1)\n",
        "  accuracy_test += (preds==labels).sum()\n",
        "  length += len(labels)\n",
        "accuracy_test = (accuracy_test/length)*100\n",
        "\n",
        "print(\"accuracy in train: \", accuracy_train)\n",
        "print(\"accuracy in test: \",accuracy_test)"
      ],
      "metadata": {
        "id": "xO8rLTmMtcTN",
        "colab": {
          "base_uri": "https://localhost:8080/",
          "height": 316
        },
        "outputId": "9c2a114e-ba3e-40a5-f352-f31eebad4813"
      },
      "execution_count": null,
      "outputs": [
        {
          "output_type": "display_data",
          "data": {
            "image/png": "[encoded data removed]",
            "text/plain": [
              "<Figure size 432x288 with 1 Axes>"
            ]
          },
          "metadata": {
            "needs_background": "light"
          }
        },
        {
          "output_type": "stream",
          "name": "stdout",
          "text": [
            "accuracy in train:  tensor(97.3150)\n",
            "accuracy in test:  tensor(97.8100)\n"
          ]
        }
      ]
    },
    {
      "cell_type": "code",
      "source": [
        "# testing\n",
        "# length = 0\n",
        "# accuracy_test = 0\n",
        "# for data in testloader:\n",
        "#   inputs,labels = data\n",
        "#   outputs = net(inputs)\n",
        "#   value,preds = torch.max(outputs,dim = 1)\n",
        "#   accuracy_test += (preds==labels).sum()\n",
        "#   length += len(labels)\n",
        "# accuracy_test = (accuracy_test/length)*100\n",
        "# print(accuracy)"
      ],
      "metadata": {
        "id": "-7yQsgpB9dWr"
      },
      "execution_count": null,
      "outputs": []
    }
  ]
}